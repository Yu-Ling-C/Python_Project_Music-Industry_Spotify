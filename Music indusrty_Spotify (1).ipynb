{
 "cells": [
  {
   "cell_type": "markdown",
   "id": "41f0b4ab",
   "metadata": {},
   "source": [
    "### The dataset \"Spotify_final_dataset\" was found on and downloaded from Kaggle\n",
    "\n",
    "\n",
    "#### Column name explanation:\n",
    "\n",
    "Position - Spotify Ranking\n",
    "\n",
    "Artist Name - Artist Name\n",
    "\n",
    "Song Name - Song Name\n",
    "\n",
    "Days - No of days since the release of the song (Updated)\n",
    "\n",
    "Top 10 (xTimes) - No of times inside top 10\n",
    "\n",
    "Peak Position - Peak position attained (1,2,3)\n",
    "\n",
    "Peak Position (xTimes) - No of times Peak position attained\n",
    "\n",
    "Peak Streams - Total no of streams during Peak position\n",
    "\n",
    "Total Streams - Total song streams"
   ]
  },
  {
   "cell_type": "markdown",
   "id": "48f87504",
   "metadata": {},
   "source": [
    "## Data cleaning"
   ]
  },
  {
   "cell_type": "code",
   "execution_count": 1,
   "id": "241bd340",
   "metadata": {},
   "outputs": [],
   "source": [
    "import pandas as pd\n",
    "import seaborn as sns\n",
    "import numpy as np\n",
    "import matplotlib.pyplot as plt"
   ]
  },
  {
   "cell_type": "code",
   "execution_count": 2,
   "id": "5343c271",
   "metadata": {},
   "outputs": [],
   "source": [
    "# read csv file\n",
    "df = pd.read_csv(\"Spotify_final_dataset.csv\")"
   ]
  },
  {
   "cell_type": "code",
   "execution_count": 3,
   "id": "c96cf7ad",
   "metadata": {
    "scrolled": false
   },
   "outputs": [
    {
     "data": {
      "text/html": [
       "<div>\n",
       "<style scoped>\n",
       "    .dataframe tbody tr th:only-of-type {\n",
       "        vertical-align: middle;\n",
       "    }\n",
       "\n",
       "    .dataframe tbody tr th {\n",
       "        vertical-align: top;\n",
       "    }\n",
       "\n",
       "    .dataframe thead th {\n",
       "        text-align: right;\n",
       "    }\n",
       "</style>\n",
       "<table border=\"1\" class=\"dataframe\">\n",
       "  <thead>\n",
       "    <tr style=\"text-align: right;\">\n",
       "      <th></th>\n",
       "      <th>Position</th>\n",
       "      <th>Artist Name</th>\n",
       "      <th>Song Name</th>\n",
       "      <th>Days</th>\n",
       "      <th>Top 10 (xTimes)</th>\n",
       "      <th>Peak Position</th>\n",
       "      <th>Peak Position (xTimes)</th>\n",
       "      <th>Peak Streams</th>\n",
       "      <th>Total Streams</th>\n",
       "    </tr>\n",
       "  </thead>\n",
       "  <tbody>\n",
       "    <tr>\n",
       "      <th>0</th>\n",
       "      <td>1</td>\n",
       "      <td>Post Malone</td>\n",
       "      <td>Sunflower  SpiderMan: Into the SpiderVerse</td>\n",
       "      <td>1506</td>\n",
       "      <td>302.0</td>\n",
       "      <td>1</td>\n",
       "      <td>(x29)</td>\n",
       "      <td>2118242</td>\n",
       "      <td>883369738</td>\n",
       "    </tr>\n",
       "    <tr>\n",
       "      <th>1</th>\n",
       "      <td>2</td>\n",
       "      <td>Juice WRLD</td>\n",
       "      <td>Lucid Dreams</td>\n",
       "      <td>1673</td>\n",
       "      <td>178.0</td>\n",
       "      <td>1</td>\n",
       "      <td>(x20)</td>\n",
       "      <td>2127668</td>\n",
       "      <td>864832399</td>\n",
       "    </tr>\n",
       "    <tr>\n",
       "      <th>2</th>\n",
       "      <td>3</td>\n",
       "      <td>Lil Uzi Vert</td>\n",
       "      <td>XO TOUR Llif3</td>\n",
       "      <td>1853</td>\n",
       "      <td>212.0</td>\n",
       "      <td>1</td>\n",
       "      <td>(x4)</td>\n",
       "      <td>1660502</td>\n",
       "      <td>781153024</td>\n",
       "    </tr>\n",
       "    <tr>\n",
       "      <th>3</th>\n",
       "      <td>4</td>\n",
       "      <td>J. Cole</td>\n",
       "      <td>No Role Modelz</td>\n",
       "      <td>2547</td>\n",
       "      <td>6.0</td>\n",
       "      <td>7</td>\n",
       "      <td>0</td>\n",
       "      <td>659366</td>\n",
       "      <td>734857487</td>\n",
       "    </tr>\n",
       "    <tr>\n",
       "      <th>4</th>\n",
       "      <td>5</td>\n",
       "      <td>Post Malone</td>\n",
       "      <td>rockstar</td>\n",
       "      <td>1223</td>\n",
       "      <td>186.0</td>\n",
       "      <td>1</td>\n",
       "      <td>(x124)</td>\n",
       "      <td>2905678</td>\n",
       "      <td>718865961</td>\n",
       "    </tr>\n",
       "    <tr>\n",
       "      <th>5</th>\n",
       "      <td>6</td>\n",
       "      <td>Travis Scott</td>\n",
       "      <td>goosebumps</td>\n",
       "      <td>1995</td>\n",
       "      <td>4.0</td>\n",
       "      <td>8</td>\n",
       "      <td>0</td>\n",
       "      <td>977275</td>\n",
       "      <td>672972704</td>\n",
       "    </tr>\n",
       "    <tr>\n",
       "      <th>6</th>\n",
       "      <td>7</td>\n",
       "      <td>The Weeknd</td>\n",
       "      <td>Blinding Lights</td>\n",
       "      <td>1100</td>\n",
       "      <td>233.0</td>\n",
       "      <td>1</td>\n",
       "      <td>(x11)</td>\n",
       "      <td>2355059</td>\n",
       "      <td>644287953</td>\n",
       "    </tr>\n",
       "    <tr>\n",
       "      <th>7</th>\n",
       "      <td>8</td>\n",
       "      <td>XXXTENTACION</td>\n",
       "      <td>Jocelyn Flores</td>\n",
       "      <td>1673</td>\n",
       "      <td>44.0</td>\n",
       "      <td>2</td>\n",
       "      <td>(x1)</td>\n",
       "      <td>3175206</td>\n",
       "      <td>624457164</td>\n",
       "    </tr>\n",
       "    <tr>\n",
       "      <th>8</th>\n",
       "      <td>9</td>\n",
       "      <td>XXXTENTACION</td>\n",
       "      <td>SAD!</td>\n",
       "      <td>1217</td>\n",
       "      <td>133.0</td>\n",
       "      <td>1</td>\n",
       "      <td>(x6)</td>\n",
       "      <td>4437612</td>\n",
       "      <td>619879245</td>\n",
       "    </tr>\n",
       "    <tr>\n",
       "      <th>9</th>\n",
       "      <td>10</td>\n",
       "      <td>Juice WRLD</td>\n",
       "      <td>All Girls Are The Same</td>\n",
       "      <td>1681</td>\n",
       "      <td>2.0</td>\n",
       "      <td>5</td>\n",
       "      <td>0</td>\n",
       "      <td>1239152</td>\n",
       "      <td>613872384</td>\n",
       "    </tr>\n",
       "    <tr>\n",
       "      <th>10</th>\n",
       "      <td>11</td>\n",
       "      <td>Kendrick Lamar</td>\n",
       "      <td>HUMBLE.</td>\n",
       "      <td>1175</td>\n",
       "      <td>152.0</td>\n",
       "      <td>1</td>\n",
       "      <td>(x67)</td>\n",
       "      <td>4060034</td>\n",
       "      <td>606305588</td>\n",
       "    </tr>\n",
       "    <tr>\n",
       "      <th>11</th>\n",
       "      <td>12</td>\n",
       "      <td>Post Malone</td>\n",
       "      <td>Circles</td>\n",
       "      <td>1172</td>\n",
       "      <td>163.0</td>\n",
       "      <td>1</td>\n",
       "      <td>(x38)</td>\n",
       "      <td>3441328</td>\n",
       "      <td>598521764</td>\n",
       "    </tr>\n",
       "    <tr>\n",
       "      <th>12</th>\n",
       "      <td>13</td>\n",
       "      <td>Travis Scott</td>\n",
       "      <td>SICKO MODE</td>\n",
       "      <td>1046</td>\n",
       "      <td>190.0</td>\n",
       "      <td>1</td>\n",
       "      <td>(x19)</td>\n",
       "      <td>4129691</td>\n",
       "      <td>586638599</td>\n",
       "    </tr>\n",
       "    <tr>\n",
       "      <th>13</th>\n",
       "      <td>14</td>\n",
       "      <td>Lil Baby</td>\n",
       "      <td>Drip Too Hard (Lil Baby &amp; Gunna)</td>\n",
       "      <td>1453</td>\n",
       "      <td>122.0</td>\n",
       "      <td>1</td>\n",
       "      <td>(x6)</td>\n",
       "      <td>1759294</td>\n",
       "      <td>583443174</td>\n",
       "    </tr>\n",
       "    <tr>\n",
       "      <th>14</th>\n",
       "      <td>15</td>\n",
       "      <td>Post Malone</td>\n",
       "      <td>Congratulations</td>\n",
       "      <td>1215</td>\n",
       "      <td>136.0</td>\n",
       "      <td>5</td>\n",
       "      <td>0</td>\n",
       "      <td>1263208</td>\n",
       "      <td>546036924</td>\n",
       "    </tr>\n",
       "    <tr>\n",
       "      <th>15</th>\n",
       "      <td>16</td>\n",
       "      <td>Post Malone</td>\n",
       "      <td>I Fall Apart</td>\n",
       "      <td>1278</td>\n",
       "      <td>132.0</td>\n",
       "      <td>2</td>\n",
       "      <td>(x14)</td>\n",
       "      <td>1275320</td>\n",
       "      <td>543144261</td>\n",
       "    </tr>\n",
       "    <tr>\n",
       "      <th>16</th>\n",
       "      <td>17</td>\n",
       "      <td>Glass Animals</td>\n",
       "      <td>Heat Waves</td>\n",
       "      <td>763</td>\n",
       "      <td>248.0</td>\n",
       "      <td>1</td>\n",
       "      <td>(x34)</td>\n",
       "      <td>1230046</td>\n",
       "      <td>540754791</td>\n",
       "    </tr>\n",
       "    <tr>\n",
       "      <th>17</th>\n",
       "      <td>18</td>\n",
       "      <td>Drake</td>\n",
       "      <td>God's Plan</td>\n",
       "      <td>634</td>\n",
       "      <td>139.0</td>\n",
       "      <td>1</td>\n",
       "      <td>(x70)</td>\n",
       "      <td>4739798</td>\n",
       "      <td>534994242</td>\n",
       "    </tr>\n",
       "    <tr>\n",
       "      <th>18</th>\n",
       "      <td>19</td>\n",
       "      <td>Roddy Ricch</td>\n",
       "      <td>The Box</td>\n",
       "      <td>650</td>\n",
       "      <td>197.0</td>\n",
       "      <td>1</td>\n",
       "      <td>(x85)</td>\n",
       "      <td>3781452</td>\n",
       "      <td>504210201</td>\n",
       "    </tr>\n",
       "    <tr>\n",
       "      <th>19</th>\n",
       "      <td>20</td>\n",
       "      <td>J. Cole</td>\n",
       "      <td>MIDDLE CHILD</td>\n",
       "      <td>1119</td>\n",
       "      <td>106.0</td>\n",
       "      <td>1</td>\n",
       "      <td>(x16)</td>\n",
       "      <td>3800251</td>\n",
       "      <td>481985952</td>\n",
       "    </tr>\n",
       "  </tbody>\n",
       "</table>\n",
       "</div>"
      ],
      "text/plain": [
       "    Position      Artist Name                                   Song Name  \\\n",
       "0          1     Post Malone   Sunflower  SpiderMan: Into the SpiderVerse   \n",
       "1          2      Juice WRLD                                 Lucid Dreams   \n",
       "2          3    Lil Uzi Vert                                XO TOUR Llif3   \n",
       "3          4         J. Cole                               No Role Modelz   \n",
       "4          5     Post Malone                                     rockstar   \n",
       "5          6    Travis Scott                                   goosebumps   \n",
       "6          7      The Weeknd                              Blinding Lights   \n",
       "7          8    XXXTENTACION                               Jocelyn Flores   \n",
       "8          9    XXXTENTACION                                         SAD!   \n",
       "9         10      Juice WRLD                       All Girls Are The Same   \n",
       "10        11  Kendrick Lamar                                      HUMBLE.   \n",
       "11        12     Post Malone                                      Circles   \n",
       "12        13    Travis Scott                                   SICKO MODE   \n",
       "13        14        Lil Baby             Drip Too Hard (Lil Baby & Gunna)   \n",
       "14        15     Post Malone                              Congratulations   \n",
       "15        16     Post Malone                                 I Fall Apart   \n",
       "16        17   Glass Animals                                   Heat Waves   \n",
       "17        18           Drake                                   God's Plan   \n",
       "18        19     Roddy Ricch                                      The Box   \n",
       "19        20         J. Cole                                 MIDDLE CHILD   \n",
       "\n",
       "    Days  Top 10 (xTimes)  Peak Position Peak Position (xTimes)  Peak Streams  \\\n",
       "0   1506            302.0              1                  (x29)       2118242   \n",
       "1   1673            178.0              1                  (x20)       2127668   \n",
       "2   1853            212.0              1                   (x4)       1660502   \n",
       "3   2547              6.0              7                      0        659366   \n",
       "4   1223            186.0              1                 (x124)       2905678   \n",
       "5   1995              4.0              8                      0        977275   \n",
       "6   1100            233.0              1                  (x11)       2355059   \n",
       "7   1673             44.0              2                   (x1)       3175206   \n",
       "8   1217            133.0              1                   (x6)       4437612   \n",
       "9   1681              2.0              5                      0       1239152   \n",
       "10  1175            152.0              1                  (x67)       4060034   \n",
       "11  1172            163.0              1                  (x38)       3441328   \n",
       "12  1046            190.0              1                  (x19)       4129691   \n",
       "13  1453            122.0              1                   (x6)       1759294   \n",
       "14  1215            136.0              5                      0       1263208   \n",
       "15  1278            132.0              2                  (x14)       1275320   \n",
       "16   763            248.0              1                  (x34)       1230046   \n",
       "17   634            139.0              1                  (x70)       4739798   \n",
       "18   650            197.0              1                  (x85)       3781452   \n",
       "19  1119            106.0              1                  (x16)       3800251   \n",
       "\n",
       "    Total Streams  \n",
       "0       883369738  \n",
       "1       864832399  \n",
       "2       781153024  \n",
       "3       734857487  \n",
       "4       718865961  \n",
       "5       672972704  \n",
       "6       644287953  \n",
       "7       624457164  \n",
       "8       619879245  \n",
       "9       613872384  \n",
       "10      606305588  \n",
       "11      598521764  \n",
       "12      586638599  \n",
       "13      583443174  \n",
       "14      546036924  \n",
       "15      543144261  \n",
       "16      540754791  \n",
       "17      534994242  \n",
       "18      504210201  \n",
       "19      481985952  "
      ]
     },
     "execution_count": 3,
     "metadata": {},
     "output_type": "execute_result"
    }
   ],
   "source": [
    "# explore the first 20 rows of the dataset\n",
    "df.head(20)"
   ]
  },
  {
   "cell_type": "code",
   "execution_count": 4,
   "id": "9be6729a",
   "metadata": {},
   "outputs": [
    {
     "data": {
      "text/html": [
       "<div>\n",
       "<style scoped>\n",
       "    .dataframe tbody tr th:only-of-type {\n",
       "        vertical-align: middle;\n",
       "    }\n",
       "\n",
       "    .dataframe tbody tr th {\n",
       "        vertical-align: top;\n",
       "    }\n",
       "\n",
       "    .dataframe thead th {\n",
       "        text-align: right;\n",
       "    }\n",
       "</style>\n",
       "<table border=\"1\" class=\"dataframe\">\n",
       "  <thead>\n",
       "    <tr style=\"text-align: right;\">\n",
       "      <th></th>\n",
       "      <th>Position</th>\n",
       "      <th>Days</th>\n",
       "      <th>Top 10 (xTimes)</th>\n",
       "      <th>Peak Position</th>\n",
       "      <th>Peak Streams</th>\n",
       "      <th>Total Streams</th>\n",
       "    </tr>\n",
       "  </thead>\n",
       "  <tbody>\n",
       "    <tr>\n",
       "      <th>count</th>\n",
       "      <td>11084.000000</td>\n",
       "      <td>11084.000000</td>\n",
       "      <td>11084.000000</td>\n",
       "      <td>11084.000000</td>\n",
       "      <td>1.108400e+04</td>\n",
       "      <td>1.108400e+04</td>\n",
       "    </tr>\n",
       "    <tr>\n",
       "      <th>mean</th>\n",
       "      <td>5542.500000</td>\n",
       "      <td>53.366925</td>\n",
       "      <td>2.713641</td>\n",
       "      <td>83.070101</td>\n",
       "      <td>5.529469e+05</td>\n",
       "      <td>1.830891e+07</td>\n",
       "    </tr>\n",
       "    <tr>\n",
       "      <th>std</th>\n",
       "      <td>3199.819526</td>\n",
       "      <td>129.750902</td>\n",
       "      <td>15.604130</td>\n",
       "      <td>58.932049</td>\n",
       "      <td>6.282936e+05</td>\n",
       "      <td>5.219383e+07</td>\n",
       "    </tr>\n",
       "    <tr>\n",
       "      <th>min</th>\n",
       "      <td>1.000000</td>\n",
       "      <td>1.000000</td>\n",
       "      <td>0.000000</td>\n",
       "      <td>1.000000</td>\n",
       "      <td>4.432300e+04</td>\n",
       "      <td>4.432300e+04</td>\n",
       "    </tr>\n",
       "    <tr>\n",
       "      <th>25%</th>\n",
       "      <td>2771.750000</td>\n",
       "      <td>2.000000</td>\n",
       "      <td>0.000000</td>\n",
       "      <td>29.000000</td>\n",
       "      <td>2.431595e+05</td>\n",
       "      <td>3.824272e+05</td>\n",
       "    </tr>\n",
       "    <tr>\n",
       "      <th>50%</th>\n",
       "      <td>5542.500000</td>\n",
       "      <td>7.000000</td>\n",
       "      <td>0.000000</td>\n",
       "      <td>75.000000</td>\n",
       "      <td>3.505885e+05</td>\n",
       "      <td>1.704876e+06</td>\n",
       "    </tr>\n",
       "    <tr>\n",
       "      <th>75%</th>\n",
       "      <td>8313.250000</td>\n",
       "      <td>39.000000</td>\n",
       "      <td>0.000000</td>\n",
       "      <td>132.000000</td>\n",
       "      <td>5.963382e+05</td>\n",
       "      <td>1.078333e+07</td>\n",
       "    </tr>\n",
       "    <tr>\n",
       "      <th>max</th>\n",
       "      <td>11084.000000</td>\n",
       "      <td>2547.000000</td>\n",
       "      <td>302.000000</td>\n",
       "      <td>200.000000</td>\n",
       "      <td>7.786096e+06</td>\n",
       "      <td>8.833697e+08</td>\n",
       "    </tr>\n",
       "  </tbody>\n",
       "</table>\n",
       "</div>"
      ],
      "text/plain": [
       "           Position          Days  Top 10 (xTimes)  Peak Position  \\\n",
       "count  11084.000000  11084.000000     11084.000000   11084.000000   \n",
       "mean    5542.500000     53.366925         2.713641      83.070101   \n",
       "std     3199.819526    129.750902        15.604130      58.932049   \n",
       "min        1.000000      1.000000         0.000000       1.000000   \n",
       "25%     2771.750000      2.000000         0.000000      29.000000   \n",
       "50%     5542.500000      7.000000         0.000000      75.000000   \n",
       "75%     8313.250000     39.000000         0.000000     132.000000   \n",
       "max    11084.000000   2547.000000       302.000000     200.000000   \n",
       "\n",
       "       Peak Streams  Total Streams  \n",
       "count  1.108400e+04   1.108400e+04  \n",
       "mean   5.529469e+05   1.830891e+07  \n",
       "std    6.282936e+05   5.219383e+07  \n",
       "min    4.432300e+04   4.432300e+04  \n",
       "25%    2.431595e+05   3.824272e+05  \n",
       "50%    3.505885e+05   1.704876e+06  \n",
       "75%    5.963382e+05   1.078333e+07  \n",
       "max    7.786096e+06   8.833697e+08  "
      ]
     },
     "execution_count": 4,
     "metadata": {},
     "output_type": "execute_result"
    }
   ],
   "source": [
    "df.describe()"
   ]
  },
  {
   "cell_type": "code",
   "execution_count": 5,
   "id": "d4fbc14b",
   "metadata": {},
   "outputs": [
    {
     "data": {
      "text/plain": [
       "Position                    int64\n",
       "Artist Name                object\n",
       "Song Name                  object\n",
       "Days                        int64\n",
       "Top 10 (xTimes)           float64\n",
       "Peak Position               int64\n",
       "Peak Position (xTimes)     object\n",
       "Peak Streams                int64\n",
       "Total Streams               int64\n",
       "dtype: object"
      ]
     },
     "execution_count": 5,
     "metadata": {},
     "output_type": "execute_result"
    }
   ],
   "source": [
    "# explore data types in each column\n",
    "df.dtypes"
   ]
  },
  {
   "cell_type": "code",
   "execution_count": 6,
   "id": "d1c30d36",
   "metadata": {},
   "outputs": [],
   "source": [
    "# column \"Top 10 (xTimes)\": float -> integer\n",
    "df[\"Top 10 (xTimes)\"] = df[\"Top 10 (xTimes)\"].astype(int)"
   ]
  },
  {
   "cell_type": "code",
   "execution_count": 7,
   "id": "a263ffd4",
   "metadata": {},
   "outputs": [
    {
     "name": "stderr",
     "output_type": "stream",
     "text": [
      "/var/folders/y_/_jftc6hs4kz3g6nj1rrbj6lr0000gn/T/ipykernel_22137/406660764.py:5: FutureWarning: The default value of regex will change from True to False in a future version. In addition, single character regular expressions will *not* be treated as literal strings when regex=True.\n",
      "  df[\"Peak Position (xTimes)\"] = df[\"Peak Position (xTimes)\"].str.replace('(','').str.replace(')','').str.replace('x','')\n"
     ]
    }
   ],
   "source": [
    "# column \"Peak Position (xTimes)\": object -> integer\n",
    "# (x29) -> 29\n",
    "\n",
    "# step 1: remove parentheses & \"x\"\n",
    "df[\"Peak Position (xTimes)\"] = df[\"Peak Position (xTimes)\"].str.replace('(','').str.replace(')','').str.replace('x','')\n",
    "#.str.replace('(', '').str.replace(')', '').str.replace('x', '').astype(int)\n",
    "\n",
    "# step 2: object -> integer\n",
    "df[\"Peak Position (xTimes)\"] = df[\"Peak Position (xTimes)\"].astype(int)"
   ]
  },
  {
   "cell_type": "code",
   "execution_count": 8,
   "id": "103ea1ab",
   "metadata": {
    "scrolled": false
   },
   "outputs": [
    {
     "data": {
      "text/plain": [
       "Position                   int64\n",
       "Artist Name               object\n",
       "Song Name                 object\n",
       "Days                       int64\n",
       "Top 10 (xTimes)            int64\n",
       "Peak Position              int64\n",
       "Peak Position (xTimes)     int64\n",
       "Peak Streams               int64\n",
       "Total Streams              int64\n",
       "dtype: object"
      ]
     },
     "execution_count": 8,
     "metadata": {},
     "output_type": "execute_result"
    }
   ],
   "source": [
    "df.dtypes"
   ]
  },
  {
   "cell_type": "code",
   "execution_count": 9,
   "id": "3edc6c04",
   "metadata": {},
   "outputs": [
    {
     "data": {
      "text/html": [
       "<div>\n",
       "<style scoped>\n",
       "    .dataframe tbody tr th:only-of-type {\n",
       "        vertical-align: middle;\n",
       "    }\n",
       "\n",
       "    .dataframe tbody tr th {\n",
       "        vertical-align: top;\n",
       "    }\n",
       "\n",
       "    .dataframe thead th {\n",
       "        text-align: right;\n",
       "    }\n",
       "</style>\n",
       "<table border=\"1\" class=\"dataframe\">\n",
       "  <thead>\n",
       "    <tr style=\"text-align: right;\">\n",
       "      <th></th>\n",
       "      <th>Position</th>\n",
       "      <th>Artist Name</th>\n",
       "      <th>Song Name</th>\n",
       "      <th>Days</th>\n",
       "      <th>Top 10 (xTimes)</th>\n",
       "      <th>Peak Position</th>\n",
       "      <th>Peak Position (xTimes)</th>\n",
       "      <th>Peak Streams</th>\n",
       "      <th>Total Streams</th>\n",
       "      <th>Avg Streams</th>\n",
       "    </tr>\n",
       "  </thead>\n",
       "  <tbody>\n",
       "    <tr>\n",
       "      <th>0</th>\n",
       "      <td>1</td>\n",
       "      <td>Post Malone</td>\n",
       "      <td>Sunflower  SpiderMan: Into the SpiderVerse</td>\n",
       "      <td>1506</td>\n",
       "      <td>302</td>\n",
       "      <td>1</td>\n",
       "      <td>29</td>\n",
       "      <td>2118242</td>\n",
       "      <td>883369738</td>\n",
       "      <td>586566.89</td>\n",
       "    </tr>\n",
       "    <tr>\n",
       "      <th>1</th>\n",
       "      <td>2</td>\n",
       "      <td>Juice WRLD</td>\n",
       "      <td>Lucid Dreams</td>\n",
       "      <td>1673</td>\n",
       "      <td>178</td>\n",
       "      <td>1</td>\n",
       "      <td>20</td>\n",
       "      <td>2127668</td>\n",
       "      <td>864832399</td>\n",
       "      <td>516935.09</td>\n",
       "    </tr>\n",
       "    <tr>\n",
       "      <th>2</th>\n",
       "      <td>3</td>\n",
       "      <td>Lil Uzi Vert</td>\n",
       "      <td>XO TOUR Llif3</td>\n",
       "      <td>1853</td>\n",
       "      <td>212</td>\n",
       "      <td>1</td>\n",
       "      <td>4</td>\n",
       "      <td>1660502</td>\n",
       "      <td>781153024</td>\n",
       "      <td>421561.26</td>\n",
       "    </tr>\n",
       "    <tr>\n",
       "      <th>3</th>\n",
       "      <td>4</td>\n",
       "      <td>J. Cole</td>\n",
       "      <td>No Role Modelz</td>\n",
       "      <td>2547</td>\n",
       "      <td>6</td>\n",
       "      <td>7</td>\n",
       "      <td>0</td>\n",
       "      <td>659366</td>\n",
       "      <td>734857487</td>\n",
       "      <td>288518.84</td>\n",
       "    </tr>\n",
       "    <tr>\n",
       "      <th>4</th>\n",
       "      <td>5</td>\n",
       "      <td>Post Malone</td>\n",
       "      <td>rockstar</td>\n",
       "      <td>1223</td>\n",
       "      <td>186</td>\n",
       "      <td>1</td>\n",
       "      <td>124</td>\n",
       "      <td>2905678</td>\n",
       "      <td>718865961</td>\n",
       "      <td>587789.01</td>\n",
       "    </tr>\n",
       "    <tr>\n",
       "      <th>5</th>\n",
       "      <td>6</td>\n",
       "      <td>Travis Scott</td>\n",
       "      <td>goosebumps</td>\n",
       "      <td>1995</td>\n",
       "      <td>4</td>\n",
       "      <td>8</td>\n",
       "      <td>0</td>\n",
       "      <td>977275</td>\n",
       "      <td>672972704</td>\n",
       "      <td>337329.68</td>\n",
       "    </tr>\n",
       "    <tr>\n",
       "      <th>6</th>\n",
       "      <td>7</td>\n",
       "      <td>The Weeknd</td>\n",
       "      <td>Blinding Lights</td>\n",
       "      <td>1100</td>\n",
       "      <td>233</td>\n",
       "      <td>1</td>\n",
       "      <td>11</td>\n",
       "      <td>2355059</td>\n",
       "      <td>644287953</td>\n",
       "      <td>585716.32</td>\n",
       "    </tr>\n",
       "    <tr>\n",
       "      <th>7</th>\n",
       "      <td>8</td>\n",
       "      <td>XXXTENTACION</td>\n",
       "      <td>Jocelyn Flores</td>\n",
       "      <td>1673</td>\n",
       "      <td>44</td>\n",
       "      <td>2</td>\n",
       "      <td>1</td>\n",
       "      <td>3175206</td>\n",
       "      <td>624457164</td>\n",
       "      <td>373255.93</td>\n",
       "    </tr>\n",
       "    <tr>\n",
       "      <th>8</th>\n",
       "      <td>9</td>\n",
       "      <td>XXXTENTACION</td>\n",
       "      <td>SAD!</td>\n",
       "      <td>1217</td>\n",
       "      <td>133</td>\n",
       "      <td>1</td>\n",
       "      <td>6</td>\n",
       "      <td>4437612</td>\n",
       "      <td>619879245</td>\n",
       "      <td>509350.24</td>\n",
       "    </tr>\n",
       "    <tr>\n",
       "      <th>9</th>\n",
       "      <td>10</td>\n",
       "      <td>Juice WRLD</td>\n",
       "      <td>All Girls Are The Same</td>\n",
       "      <td>1681</td>\n",
       "      <td>2</td>\n",
       "      <td>5</td>\n",
       "      <td>0</td>\n",
       "      <td>1239152</td>\n",
       "      <td>613872384</td>\n",
       "      <td>365182.86</td>\n",
       "    </tr>\n",
       "  </tbody>\n",
       "</table>\n",
       "</div>"
      ],
      "text/plain": [
       "   Position    Artist Name                                   Song Name  Days  \\\n",
       "0         1   Post Malone   Sunflower  SpiderMan: Into the SpiderVerse  1506   \n",
       "1         2    Juice WRLD                                 Lucid Dreams  1673   \n",
       "2         3  Lil Uzi Vert                                XO TOUR Llif3  1853   \n",
       "3         4       J. Cole                               No Role Modelz  2547   \n",
       "4         5   Post Malone                                     rockstar  1223   \n",
       "5         6  Travis Scott                                   goosebumps  1995   \n",
       "6         7    The Weeknd                              Blinding Lights  1100   \n",
       "7         8  XXXTENTACION                               Jocelyn Flores  1673   \n",
       "8         9  XXXTENTACION                                         SAD!  1217   \n",
       "9        10    Juice WRLD                       All Girls Are The Same  1681   \n",
       "\n",
       "   Top 10 (xTimes)  Peak Position  Peak Position (xTimes)  Peak Streams  \\\n",
       "0              302              1                      29       2118242   \n",
       "1              178              1                      20       2127668   \n",
       "2              212              1                       4       1660502   \n",
       "3                6              7                       0        659366   \n",
       "4              186              1                     124       2905678   \n",
       "5                4              8                       0        977275   \n",
       "6              233              1                      11       2355059   \n",
       "7               44              2                       1       3175206   \n",
       "8              133              1                       6       4437612   \n",
       "9                2              5                       0       1239152   \n",
       "\n",
       "   Total Streams  Avg Streams  \n",
       "0      883369738    586566.89  \n",
       "1      864832399    516935.09  \n",
       "2      781153024    421561.26  \n",
       "3      734857487    288518.84  \n",
       "4      718865961    587789.01  \n",
       "5      672972704    337329.68  \n",
       "6      644287953    585716.32  \n",
       "7      624457164    373255.93  \n",
       "8      619879245    509350.24  \n",
       "9      613872384    365182.86  "
      ]
     },
     "execution_count": 9,
     "metadata": {},
     "output_type": "execute_result"
    }
   ],
   "source": [
    "# add column \"Avg Streams\"\n",
    "\n",
    "df[\"Avg Streams\"] = df[\"Total Streams\"]/df[\"Days\"]\n",
    "df[\"Avg Streams\"] = df[\"Avg Streams\"].apply(lambda x: round(x, 2))\n",
    "df.head(10)"
   ]
  },
  {
   "cell_type": "code",
   "execution_count": 10,
   "id": "6894ad1d",
   "metadata": {
    "scrolled": true
   },
   "outputs": [
    {
     "data": {
      "text/plain": [
       "Position                  0\n",
       "Artist Name               0\n",
       "Song Name                 4\n",
       "Days                      0\n",
       "Top 10 (xTimes)           0\n",
       "Peak Position             0\n",
       "Peak Position (xTimes)    0\n",
       "Peak Streams              0\n",
       "Total Streams             0\n",
       "Avg Streams               0\n",
       "dtype: int64"
      ]
     },
     "execution_count": 10,
     "metadata": {},
     "output_type": "execute_result"
    }
   ],
   "source": [
    "# null values\n",
    "df.isnull().sum()"
   ]
  },
  {
   "cell_type": "code",
   "execution_count": 11,
   "id": "c4ad92c6",
   "metadata": {},
   "outputs": [],
   "source": [
    "# drop null values\n",
    "df = df.dropna()\n",
    "\n",
    "# finish cleansing the data frame"
   ]
  },
  {
   "cell_type": "code",
   "execution_count": 12,
   "id": "0fd1e0fe",
   "metadata": {
    "scrolled": true
   },
   "outputs": [
    {
     "data": {
      "text/plain": [
       "Position                  0\n",
       "Artist Name               0\n",
       "Song Name                 0\n",
       "Days                      0\n",
       "Top 10 (xTimes)           0\n",
       "Peak Position             0\n",
       "Peak Position (xTimes)    0\n",
       "Peak Streams              0\n",
       "Total Streams             0\n",
       "Avg Streams               0\n",
       "dtype: int64"
      ]
     },
     "execution_count": 12,
     "metadata": {},
     "output_type": "execute_result"
    }
   ],
   "source": [
    "# new dataframe without null values\n",
    "df.isnull().sum()"
   ]
  },
  {
   "cell_type": "markdown",
   "id": "26853ac0",
   "metadata": {},
   "source": [
    "## Analyses"
   ]
  },
  {
   "cell_type": "code",
   "execution_count": 13,
   "id": "72f1a455",
   "metadata": {},
   "outputs": [
    {
     "data": {
      "text/html": [
       "<div>\n",
       "<style scoped>\n",
       "    .dataframe tbody tr th:only-of-type {\n",
       "        vertical-align: middle;\n",
       "    }\n",
       "\n",
       "    .dataframe tbody tr th {\n",
       "        vertical-align: top;\n",
       "    }\n",
       "\n",
       "    .dataframe thead th {\n",
       "        text-align: right;\n",
       "    }\n",
       "</style>\n",
       "<table border=\"1\" class=\"dataframe\">\n",
       "  <thead>\n",
       "    <tr style=\"text-align: right;\">\n",
       "      <th></th>\n",
       "      <th>Position</th>\n",
       "      <th>Artist Name</th>\n",
       "      <th>Song Name</th>\n",
       "      <th>Days</th>\n",
       "      <th>Top 10 (xTimes)</th>\n",
       "      <th>Peak Position</th>\n",
       "      <th>Peak Position (xTimes)</th>\n",
       "      <th>Peak Streams</th>\n",
       "      <th>Total Streams</th>\n",
       "      <th>Avg Streams</th>\n",
       "    </tr>\n",
       "  </thead>\n",
       "  <tbody>\n",
       "    <tr>\n",
       "      <th>4</th>\n",
       "      <td>5</td>\n",
       "      <td>Post Malone</td>\n",
       "      <td>rockstar</td>\n",
       "      <td>1223</td>\n",
       "      <td>186</td>\n",
       "      <td>1</td>\n",
       "      <td>124</td>\n",
       "      <td>2905678</td>\n",
       "      <td>718865961</td>\n",
       "      <td>587789.01</td>\n",
       "    </tr>\n",
       "  </tbody>\n",
       "</table>\n",
       "</div>"
      ],
      "text/plain": [
       "   Position   Artist Name Song Name  Days  Top 10 (xTimes)  Peak Position  \\\n",
       "4         5  Post Malone   rockstar  1223              186              1   \n",
       "\n",
       "   Peak Position (xTimes)  Peak Streams  Total Streams  Avg Streams  \n",
       "4                     124       2905678      718865961    587789.01  "
      ]
     },
     "execution_count": 13,
     "metadata": {},
     "output_type": "execute_result"
    }
   ],
   "source": [
    "# Song with the most times of peak position (1,2,3)\n",
    "\n",
    "max_pp = df['Peak Position (xTimes)'].max()\n",
    "df[df['Peak Position (xTimes)']==max_pp]"
   ]
  },
  {
   "cell_type": "code",
   "execution_count": 14,
   "id": "5f8aaf8a",
   "metadata": {},
   "outputs": [
    {
     "data": {
      "text/html": [
       "<div>\n",
       "<style scoped>\n",
       "    .dataframe tbody tr th:only-of-type {\n",
       "        vertical-align: middle;\n",
       "    }\n",
       "\n",
       "    .dataframe tbody tr th {\n",
       "        vertical-align: top;\n",
       "    }\n",
       "\n",
       "    .dataframe thead th {\n",
       "        text-align: right;\n",
       "    }\n",
       "</style>\n",
       "<table border=\"1\" class=\"dataframe\">\n",
       "  <thead>\n",
       "    <tr style=\"text-align: right;\">\n",
       "      <th></th>\n",
       "      <th>Position</th>\n",
       "      <th>Artist Name</th>\n",
       "      <th>Song Name</th>\n",
       "      <th>Days</th>\n",
       "      <th>Top 10 (xTimes)</th>\n",
       "      <th>Peak Position</th>\n",
       "      <th>Peak Position (xTimes)</th>\n",
       "      <th>Peak Streams</th>\n",
       "      <th>Total Streams</th>\n",
       "      <th>Avg Streams</th>\n",
       "    </tr>\n",
       "  </thead>\n",
       "  <tbody>\n",
       "    <tr>\n",
       "      <th>4</th>\n",
       "      <td>5</td>\n",
       "      <td>Post Malone</td>\n",
       "      <td>rockstar</td>\n",
       "      <td>1223</td>\n",
       "      <td>186</td>\n",
       "      <td>1</td>\n",
       "      <td>124</td>\n",
       "      <td>2905678</td>\n",
       "      <td>718865961</td>\n",
       "      <td>587789.01</td>\n",
       "    </tr>\n",
       "    <tr>\n",
       "      <th>22</th>\n",
       "      <td>23</td>\n",
       "      <td>Drake</td>\n",
       "      <td>One Dance</td>\n",
       "      <td>772</td>\n",
       "      <td>187</td>\n",
       "      <td>1</td>\n",
       "      <td>103</td>\n",
       "      <td>2767175</td>\n",
       "      <td>454267392</td>\n",
       "      <td>588429.26</td>\n",
       "    </tr>\n",
       "  </tbody>\n",
       "</table>\n",
       "</div>"
      ],
      "text/plain": [
       "    Position   Artist Name  Song Name  Days  Top 10 (xTimes)  Peak Position  \\\n",
       "4          5  Post Malone    rockstar  1223              186              1   \n",
       "22        23        Drake   One Dance   772              187              1   \n",
       "\n",
       "    Peak Position (xTimes)  Peak Streams  Total Streams  Avg Streams  \n",
       "4                      124       2905678      718865961    587789.01  \n",
       "22                     103       2767175      454267392    588429.26  "
      ]
     },
     "execution_count": 14,
     "metadata": {},
     "output_type": "execute_result"
    }
   ],
   "source": [
    "# Songs with 100+ times of peak position (1,2,3)\n",
    "\n",
    "df[df['Peak Position (xTimes)'] >= 100]"
   ]
  },
  {
   "cell_type": "code",
   "execution_count": 15,
   "id": "bbd4ca9b",
   "metadata": {
    "scrolled": true
   },
   "outputs": [
    {
     "data": {
      "text/plain": [
       "Artist Name                        Song Name                                                  Peak Position (xTimes)\n",
       "Bad Bunny                          Dakiti                                                     1                         1\n",
       "Beyoncé                            I'M THAT GIRL                                              1                         1\n",
       "The Weeknd                         Sacrifice                                                  2                         1\n",
       "Taylor Swift                       Shake It Off                                               41                        1\n",
       "                                   ME!                                                        3                         1\n",
       "                                   Love Story (Taylor’s Version)                              1                         1\n",
       "                                   AntiHero                                                   14                        1\n",
       "Sam Smith                          Unholy                                                     28                        1\n",
       "SZA                                Kill Bill                                                  16                        1\n",
       "NAV                                Turks                                                      1                         1\n",
       "Metro Boomin                       Superhero (Heroes & Villains) [with Future & Chris Brown]  1                         1\n",
       "                                   Creepin'                                                   6                         1\n",
       "Lil Wayne                          Mona Lisa                                                  7                         1\n",
       "Lil Uzi Vert                       Futsal Shuffle 2020                                        7                         1\n",
       "                                   Baby Pluto                                                 2                         1\n",
       "Kendrick Lamar                     Wesley's Theory                                            1                         1\n",
       "                                   The Heart Part 5                                           2                         1\n",
       "Kanye West                         Jail                                                       2                         1\n",
       "                                   Follow God                                                 4                         1\n",
       "Juice WRLD                         Burn                                                       1                         1\n",
       "J. Cole                            i n t e r l u d e                                          1                         1\n",
       "                                   a m a r i                                                  1                         1\n",
       "                                   The Climb Back                                             1                         1\n",
       "                                   Snow On Tha Bluff                                          1                         1\n",
       "Drake                              Rich Flex                                                  28                        1\n",
       "                                   Pain 1993                                                  1                         1\n",
       "                                   Falling Back                                               1                         1\n",
       "Bobby \"Boris\" Pickett & The Crypt  Kickers  Monster Mash                                      1                         1\n",
       "Billie Eilish                      Your Power                                                 1                         1\n",
       "Travis Scott                       ESCAPE PLAN                                                1                         1\n",
       "dtype: int64"
      ]
     },
     "execution_count": 15,
     "metadata": {},
     "output_type": "execute_result"
    }
   ],
   "source": [
    "# Recently released songs (within 100 days) that have ever made it to #1 (Peak Position = 1)\n",
    "\n",
    "\n",
    "df.loc[ (df[\"Days\"] <= 100) & (df[\"Peak Position\"] == 1)][['Artist Name','Song Name','Peak Position (xTimes)']].value_counts()"
   ]
  },
  {
   "cell_type": "code",
   "execution_count": 16,
   "id": "f27a8058",
   "metadata": {},
   "outputs": [
    {
     "data": {
      "text/plain": [
       "Drake              208\n",
       "Future             190\n",
       "Taylor Swift       172\n",
       "Logic              120\n",
       "Trippie Redd       114\n",
       "                  ... \n",
       "Lil Adrei            1\n",
       "Etta James           1\n",
       "HRVY                 1\n",
       "Lean Trap            1\n",
       "The Band Perry       1\n",
       "Name: Artist Name, Length: 1608, dtype: int64"
      ]
     },
     "execution_count": 16,
     "metadata": {},
     "output_type": "execute_result"
    }
   ],
   "source": [
    "# Artists with the highest number of songs\n",
    "\n",
    "df['Artist Name'].value_counts()"
   ]
  },
  {
   "cell_type": "code",
   "execution_count": 17,
   "id": "f2307a48",
   "metadata": {
    "scrolled": true
   },
   "outputs": [
    {
     "data": {
      "text/plain": [
       "Drake               88\n",
       "Taylor Swift        65\n",
       "The Weeknd          41\n",
       "Ariana Grande       39\n",
       "Post Malone         37\n",
       "                    ..\n",
       "Carolina Gaitán      1\n",
       "Mark Ronson          1\n",
       "Frank Sinatra        1\n",
       "Jack Ü               1\n",
       "YG                   1\n",
       "Name: Artist Name, Length: 275, dtype: int64"
      ]
     },
     "execution_count": 17,
     "metadata": {},
     "output_type": "execute_result"
    }
   ],
   "source": [
    "# Artists with the highest number of songs inside top 10\n",
    "\n",
    "# create a new dataframe 'df_top10' where songs made it to top 10 at least once\n",
    "df_top10 = df[df['Top 10 (xTimes)'] >= 1]\n",
    "\n",
    "\n",
    "df_top10['Artist Name'].value_counts()\n",
    "\n",
    "\n",
    "# Drake has the most songs that stay in top 10"
   ]
  },
  {
   "cell_type": "code",
   "execution_count": 18,
   "id": "56fcb3c2",
   "metadata": {},
   "outputs": [
    {
     "data": {
      "text/plain": [
       "Artist Name\n",
       "Drake              2364\n",
       "Post Malone        1706\n",
       "The Weeknd         1157\n",
       "Ariana Grande       769\n",
       "Justin Bieber       675\n",
       "                   ... \n",
       "Coolio                1\n",
       "Maluma                1\n",
       "Rod Wave              1\n",
       "Russ                  1\n",
       "Ray Parker Jr.        1\n",
       "Name: Top 10 (xTimes), Length: 275, dtype: int64"
      ]
     },
     "execution_count": 18,
     "metadata": {},
     "output_type": "execute_result"
    }
   ],
   "source": [
    "# Artists whose songs have the highest number of times inside top 10\n",
    "\n",
    "df_top10.groupby('Artist Name')['Top 10 (xTimes)'].sum().sort_values(ascending=False)\n",
    "\n",
    "# Drake's songs have the most times inside top 10"
   ]
  },
  {
   "cell_type": "markdown",
   "id": "a6230a60",
   "metadata": {},
   "source": [
    "## Visualization"
   ]
  },
  {
   "cell_type": "code",
   "execution_count": 19,
   "id": "3254bea0",
   "metadata": {},
   "outputs": [
    {
     "data": {
      "text/plain": [
       "287165.51579783426"
      ]
     },
     "execution_count": 19,
     "metadata": {},
     "output_type": "execute_result"
    }
   ],
   "source": [
    "avg_daily_str = df[\"Avg Streams\"].mean()\n",
    "avg_daily_str"
   ]
  },
  {
   "cell_type": "code",
   "execution_count": 20,
   "id": "21c7f293",
   "metadata": {},
   "outputs": [
    {
     "data": {
      "text/plain": [
       "<AxesSubplot:xlabel='Days', ylabel='Total Streams'>"
      ]
     },
     "execution_count": 20,
     "metadata": {},
     "output_type": "execute_result"
    },
    {
     "data": {
      "image/png": "[encoded data removed]",
      "text/plain": [
       "<Figure size 432x288 with 1 Axes>"
      ]
     },
     "metadata": {
      "needs_background": "light"
     },
     "output_type": "display_data"
    }
   ],
   "source": [
    "# Correlation between Days (since release) and Total Streams among songs above mean Avg Streams\n",
    "\n",
    "df1 = df[ df[\"Avg Streams\"] > avg_daily_str]\n",
    "sns.regplot(x=\"Days\", y=\"Total Streams\", data=df1, scatter_kws = {'color':'black'}, line_kws = {'color':'red'})\n",
    "\n",
    "# For songs whose daily streams are above average, the longer they are released, the higher streams they have\n",
    "# Highly correlated"
   ]
  },
  {
   "cell_type": "code",
   "execution_count": 21,
   "id": "5a5c79f6",
   "metadata": {},
   "outputs": [
    {
     "data": {
      "text/plain": [
       "<AxesSubplot:xlabel='Days', ylabel='Total Streams'>"
      ]
     },
     "execution_count": 21,
     "metadata": {},
     "output_type": "execute_result"
    },
    {
     "data": {
      "image/png": "[encoded data removed]",
      "text/plain": [
       "<Figure size 432x288 with 1 Axes>"
      ]
     },
     "metadata": {
      "needs_background": "light"
     },
     "output_type": "display_data"
    }
   ],
   "source": [
    "# Correlation between Days (since release) and Total Streams among songs below mean Avg Streams\n",
    "\n",
    "df2 = df[ df[\"Avg Streams\"] < avg_daily_str]\n",
    "sns.regplot(x=\"Days\", y=\"Total Streams\", data=df2, scatter_kws = {'color':'black'}, line_kws = {'color':'red'})\n",
    "\n",
    "# For songs whose daily streams are below average, the longer they are released, the higher streams they have\n",
    "# The correlation is also high, yet not as high as its counterpart"
   ]
  },
  {
   "cell_type": "code",
   "execution_count": 22,
   "id": "27164ede",
   "metadata": {},
   "outputs": [
    {
     "data": {
      "text/plain": [
       "<AxesSubplot:xlabel='Top 10 (xTimes)', ylabel='Peak Position (xTimes)'>"
      ]
     },
     "execution_count": 22,
     "metadata": {},
     "output_type": "execute_result"
    },
    {
     "data": {
      "image/png": "[encoded data removed]",
      "text/plain": [
       "<Figure size 432x288 with 1 Axes>"
      ]
     },
     "metadata": {
      "needs_background": "light"
     },
     "output_type": "display_data"
    }
   ],
   "source": [
    "# Correlation between Top 10 (xTimes) and Peak Position (xTimes) among songs with 50+ times inside top 10\n",
    "\n",
    "# at least 50 times inside top 10\n",
    "df3 = df[ df[\"Top 10 (xTimes)\"] >= 50]\n",
    "\n",
    "sns.regplot(x=\"Top 10 (xTimes)\", y=\"Peak Position (xTimes)\", data=df3, scatter_kws = {'color':'black'}, line_kws = {'color':'red'})\n",
    "\n",
    "# Regardless of days since release, songs with higher number of times inside top 10 tend to have higher number of times inside peak position \n",
    "# However, as the number of times of being inside top 10 goes up, the distribution becomes more dispersed"
   ]
  },
  {
   "cell_type": "code",
   "execution_count": 23,
   "id": "0c3d777d",
   "metadata": {},
   "outputs": [
    {
     "data": {
      "image/png": "[encoded data removed]",
      "text/plain": [
       "<Figure size 432x288 with 1 Axes>"
      ]
     },
     "metadata": {
      "needs_background": "light"
     },
     "output_type": "display_data"
    }
   ],
   "source": [
    "# songs with Peak position = 1\n",
    "\n",
    "# create a new data frame where Peak Position = 1\n",
    "df_pp1 = df[df[\"Peak Position\"] == 1]\n",
    "\n",
    "# histogram\n",
    "df_pp1['Peak Position (xTimes)'].plot(kind='hist')\n",
    "\n",
    "# set axis labels\n",
    "plt.xlabel(\"Peak Position Times\")\n",
    "plt.ylabel(\"Number of Songs\")\n",
    "\n",
    "# show plot\n",
    "plt.show()\n",
    "\n",
    "# Among songs that have ever reached #1, most of them made it to top 3 within 40 times, while the minority remained on top 3 for 100+ times"
   ]
  }
 ],
 "metadata": {
  "kernelspec": {
   "display_name": "Python 3 (ipykernel)",
   "language": "python",
   "name": "python3"
  },
  "language_info": {
   "codemirror_mode": {
    "name": "ipython",
    "version": 3
   },
   "file_extension": ".py",
   "mimetype": "text/x-python",
   "name": "python",
   "nbconvert_exporter": "python",
   "pygments_lexer": "ipython3",
   "version": "3.9.12"
  }
 },
 "nbformat": 4,
 "nbformat_minor": 5
}
